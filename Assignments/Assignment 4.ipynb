{
 "cells": [
  {
   "cell_type": "markdown",
   "metadata": {
    "id": "9f8FduyE7X5W"
   },
   "source": [
    "# **Question 1st**\n",
    "Create a math function that will take a list as arguments and perform the following :<br>\n",
    "Return the sum of the list <br>\n",
    "Sum of square of all elements present in the list .<br>\n",
    "**Example:**\n",
    "calculate([1,2,3,4,5])<br>\n",
    "output: sum of all list is 15 \n",
    "sum of square of list elemnts is 55<br>"
   ]
  },
  {
   "cell_type": "code",
   "execution_count": 9,
   "metadata": {
    "colab": {
     "base_uri": "https://localhost:8080/"
    },
    "executionInfo": {
     "elapsed": 6396,
     "status": "ok",
     "timestamp": 1626629440373,
     "user": {
      "displayName": "Mandar Sawant",
      "photoUrl": "",
      "userId": "10354919979443650100"
     },
     "user_tz": -330
    },
    "id": "Xn4t1_u17Swh",
    "outputId": "9ab59d94-c487-4525-e29c-c350bb99641d"
   },
   "outputs": [
    {
     "name": "stdout",
     "output_type": "stream",
     "text": [
      "Enter number of elements in the list : 5\n",
      "Enter the numbers : 1,2,3,4,5\n",
      "[1, 2, 3, 4, 5]\n",
      "Sum of all list is 15 and sum of square of list elements is 55\n"
     ]
    }
   ],
   "source": [
    "n = int(input(\"Enter number of elements in the list : \"))                       # Enter number of elements in the list \n",
    "\n",
    "list1 = list(map(int,input(\"Enter the numbers : \").strip().split(',')))         # Enter a number\n",
    "print(list1)                                                                    # Print Input List\n",
    "\n",
    "Sum = sum(list1)                                                               \n",
    "res = sum(map(lambda i : i * i, list1))                                         # Create lambda function\n",
    "# print(Sum)\n",
    "# print(str(res))\n",
    "print(\"Sum of all list is {} and sum of square of list elements is {}\".format(Sum, res))             # Print output        "
   ]
  },
  {
   "cell_type": "markdown",
   "metadata": {
    "id": "F75DXswm8thY"
   },
   "source": [
    "# **Question 2nd**\n",
    "**a)**<br>\n",
    "**input=['a','a','b','c','d','a','a','i','g','g','h']**<br>\n",
    "**output={'a':4,'b':1,'c':1,'g':2,'h':1}**<br>\n",
    "consider input as a list and return a dictionary of occurances of each and every element present in the list.\n",
    "\n",
    "b)<br>\n",
    "Write the above program by defining a count function, such that when function is called, it should return a dictionary with occurances of each and every element.<br>\n",
    "\n",
    "count(['a','a','b','c','d','a','a','i','g','g','h'])<br>\n",
    "output:{'a':4,'b':1,'c':1,'g':2,'h':1}\n"
   ]
  },
  {
   "cell_type": "code",
   "execution_count": 10,
   "metadata": {
    "colab": {
     "base_uri": "https://localhost:8080/"
    },
    "executionInfo": {
     "elapsed": 3189,
     "status": "ok",
     "timestamp": 1626629462256,
     "user": {
      "displayName": "Mandar Sawant",
      "photoUrl": "",
      "userId": "10354919979443650100"
     },
     "user_tz": -330
    },
    "id": "q7fPgrizAdwY",
    "outputId": "5936db77-c0fe-4dd1-f96c-1ea11f34e4d1"
   },
   "outputs": [
    {
     "name": "stdout",
     "output_type": "stream",
     "text": [
      "Enter a Value : a,a,b,c,d,a,a,i,g,g,h\n",
      "Input List : ['a', 'a', 'b', 'c', 'd', 'a', 'a', 'i', 'g', 'g', 'h']\n",
      "{'a': 4, 'b': 1, 'c': 1, 'd': 1, 'i': 1, 'g': 2, 'h': 1}\n"
     ]
    }
   ],
   "source": [
    "# Question 2nd a) Solution\n",
    "values = input(\"Enter a Value : \")                     # Enter a value\n",
    "list2 = values.split(\",\")                              # Split value\n",
    "print(\"Input List : {}\".format(list2))                 # Show Input List    \n",
    "\n",
    "frequency = {}\n",
    "for item in list2:                                     # Checking condition\n",
    "   if (item in frequency):\n",
    "      frequency[item] += 1\n",
    "   else:\n",
    "      frequency[item] = 1\n",
    "\n",
    "print(frequency)                                       # Print occurances of each element in the list"
   ]
  },
  {
   "cell_type": "code",
   "execution_count": 11,
   "metadata": {
    "colab": {
     "base_uri": "https://localhost:8080/"
    },
    "executionInfo": {
     "elapsed": 3299,
     "status": "ok",
     "timestamp": 1626629476650,
     "user": {
      "displayName": "Mandar Sawant",
      "photoUrl": "",
      "userId": "10354919979443650100"
     },
     "user_tz": -330
    },
    "id": "V1hsuwG18srj",
    "outputId": "fbc1cdec-f8a2-429e-9acb-2e5b4c5c5f3b"
   },
   "outputs": [
    {
     "name": "stdout",
     "output_type": "stream",
     "text": [
      "Enter a Value : a,a,b,c,d,a,a,i,g,g,h\n",
      "Input List : ['a', 'a', 'b', 'c', 'd', 'a', 'a', 'i', 'g', 'g', 'h'] \n",
      "{'a': 4, 'b': 1, 'c': 1, 'd': 1, 'i': 1, 'g': 2, 'h': 1}\n"
     ]
    }
   ],
   "source": [
    "# Question 2nd b) Solution\n",
    "values = input(\"Enter a Value : \")                        # Enter a value\n",
    "list3 = values.split(\",\")                                 # Split value\n",
    "print(\"Input List : {} \".format(list3))                   # Show Input List\n",
    "\n",
    "def CountFrequency(list3):\n",
    "     \n",
    "   count = {}                                             # Creating an empty dictionary\n",
    "   for i in list2:                                        # checking condition\n",
    "    count[i] = count.get(i, 0) + 1\n",
    "   return count\n",
    " \n",
    "if __name__ == \"__main__\":                                # Driver function\n",
    "    my_list = list3\n",
    "    print(CountFrequency(my_list))                        # Print occurances of each element in the list     "
   ]
  },
  {
   "cell_type": "markdown",
   "metadata": {
    "id": "fnAoeWvXIFH5"
   },
   "source": [
    "# **Question 3:<br>**\n",
    "\n",
    "**i)**\n",
    "create a even function that will take number as an argument and returns a list of all the even numbers starting with 2 to the number given as an input.(For clarity check the example)<br>\n",
    "**Example:**even(10)<br>\n",
    "output:[2,4,6,8,10]<br>\n",
    "\n",
    "**ii)**\n",
    "In second part you have to return the total sum of even numbers that you received as an output from the above question.\n",
    "\n",
    "Example:even(10)<br>\n",
    "output: your output is 220"
   ]
  },
  {
   "cell_type": "code",
   "execution_count": 12,
   "metadata": {
    "colab": {
     "base_uri": "https://localhost:8080/"
    },
    "executionInfo": {
     "elapsed": 3128,
     "status": "ok",
     "timestamp": 1626629484366,
     "user": {
      "displayName": "Mandar Sawant",
      "photoUrl": "",
      "userId": "10354919979443650100"
     },
     "user_tz": -330
    },
    "id": "bh1EbbO1ID_X",
    "outputId": "a9654d7e-3a25-4422-876c-d98c4eda8d17"
   },
   "outputs": [
    {
     "name": "stdout",
     "output_type": "stream",
     "text": [
      "Enter a Number: 10\n",
      "[2, 4, 6, 8, 10]"
     ]
    }
   ],
   "source": [
    "# Question 3rd i) Solution\n",
    "num1 = int(input(\"Enter a Number: \"))                  # Enter a number\n",
    "num2 = []\n",
    "\n",
    "for num in range(2, num1 + 1):                         # iterating each number in list\n",
    "  \n",
    "  if num % 2 == 0:\n",
    "   num2.append(num)                                    # checking condition\n",
    "print(num2, end = \"\")                                  # Print output as a list"
   ]
  },
  {
   "cell_type": "code",
   "execution_count": 13,
   "metadata": {
    "colab": {
     "base_uri": "https://localhost:8080/"
    },
    "executionInfo": {
     "elapsed": 3268,
     "status": "ok",
     "timestamp": 1626629490512,
     "user": {
      "displayName": "Mandar Sawant",
      "photoUrl": "",
      "userId": "10354919979443650100"
     },
     "user_tz": -330
    },
    "id": "PEC05hn1P6kY",
    "outputId": "3d97a860-1363-44cf-a4ff-77d6f55170c1"
   },
   "outputs": [
    {
     "name": "stdout",
     "output_type": "stream",
     "text": [
      "Enter a Number: 10\n",
      "220 "
     ]
    }
   ],
   "source": [
    "# Question 3rd ii) Solution\n",
    "num1 = int(input(\"Enter a Number: \"))                     # Enter a number\n",
    "num2 = []\n",
    "for num in range(2, num1 + 1):                            # iterating each number in list\n",
    "    \n",
    "    if num % 2 == 0:                                         # checking condition\n",
    "     num2.append(num)\n",
    "     res = sum(map(lambda i : i * i, num2))                  # Create lambda function \n",
    "print(res, end = \" \")                                        # Print output as a sum of square list"
   ]
  }
 ],
 "metadata": {
  "colab": {
   "authorship_tag": "ABX9TyPF+wJaCntZ+GTP/ExWSuQs",
   "collapsed_sections": [],
   "name": "Mandar Sawant Assignment 4.ipynb",
   "provenance": []
  },
  "kernelspec": {
   "display_name": "Python 3",
   "language": "python",
   "name": "python3"
  },
  "language_info": {
   "codemirror_mode": {
    "name": "ipython",
    "version": 3
   },
   "file_extension": ".py",
   "mimetype": "text/x-python",
   "name": "python",
   "nbconvert_exporter": "python",
   "pygments_lexer": "ipython3",
   "version": "3.8.8"
  }
 },
 "nbformat": 4,
 "nbformat_minor": 1
}
