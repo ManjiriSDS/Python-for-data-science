{
 "cells": [
  {
   "cell_type": "markdown",
   "metadata": {
    "id": "j2FNVnUqBiYG"
   },
   "source": [
    "# Question 1\n",
    "Define a  calculator function which takes 3 arguments from the user ,first two  will be numbers and third will be operations like (+,-,*,/).If user forgets to give third argument then by default operation it performs addition.\n",
    "\n",
    "calculator(3,4,+)\n",
    "output: sum of 3 and 4 is :7\n",
    "\n",
    "calculator(4,2)\n",
    "output: sum of 4 and 2 is :6"
   ]
  },
  {
   "cell_type": "code",
   "execution_count": 9,
   "metadata": {
    "colab": {
     "base_uri": "https://localhost:8080/"
    },
    "executionInfo": {
     "elapsed": 10006,
     "status": "ok",
     "timestamp": 1626629528815,
     "user": {
      "displayName": "Mandar Sawant",
      "photoUrl": "",
      "userId": "10354919979443650100"
     },
     "user_tz": -330
    },
    "id": "da88tpWgBoAm",
    "outputId": "4f23f1fa-6bd8-4c3b-9d8c-e71f11d84f90"
   },
   "outputs": [
    {
     "name": "stdout",
     "output_type": "stream",
     "text": [
      "Enter First number: 3\n",
      "Enter Second number: 4\n",
      "Select Operations form +, -, *, /:+\n",
      "7\n"
     ]
    }
   ],
   "source": [
    "def add(num1, num2):                                             # Define Function \n",
    "    return num1 + num2                              \n",
    "  \n",
    "def subtract(num1, num2):\n",
    "    return num1 - num2\n",
    "  \n",
    "def multiply(num1, num2):\n",
    "    return num1 * num2\n",
    "\n",
    "def divide(num1, num2):\n",
    "    return num1 / num2\n",
    "\n",
    "num_1 = int(input(\"Enter First number: \"))                            # Enter First Number\n",
    "num_2 = int(input(\"Enter Second number: \"))                           # Enter Second Number\n",
    "operation = input(\"Select Operations form +, -, *, /:\")               # Calculate value by Operations eg.+, -, *, /\n",
    "\n",
    "if operation == \"+\":\n",
    "    print(add(num_1, num_2))                                          # Print value\n",
    "     \n",
    "elif operation == \"-\":\n",
    "    print(subtract(num_1, num_2))\n",
    "    \n",
    "elif operation == \"*\":\n",
    "    print(multiply(num_1, num_2))\n",
    "\n",
    "elif operation == \"/\":\n",
    "    print(divide(num_1, num_2))\n",
    "else:\n",
    "    print(add(num_1, num_2))                                          # Print value without operation with condition addition"
   ]
  },
  {
   "cell_type": "markdown",
   "metadata": {
    "id": "70bKVOOCB5f-"
   },
   "source": [
    "# **Question 2**\n",
    "input:[23,34,23,36,48,56,56,100,100,100]<br>\n",
    "Write a function that will take a list as an input and returns second largest element from the list.\n",
    "\n",
    "maximum(input)<br>\n",
    "output :your second max element of list is 56."
   ]
  },
  {
   "cell_type": "code",
   "execution_count": 10,
   "metadata": {
    "colab": {
     "base_uri": "https://localhost:8080/"
    },
    "executionInfo": {
     "elapsed": 22214,
     "status": "ok",
     "timestamp": 1626629565016,
     "user": {
      "displayName": "Mandar Sawant",
      "photoUrl": "",
      "userId": "10354919979443650100"
     },
     "user_tz": -330
    },
    "id": "HsTMdV8VCBRB",
    "outputId": "c61bb6ca-defc-4629-98d3-855df907fcef"
   },
   "outputs": [
    {
     "name": "stdout",
     "output_type": "stream",
     "text": [
      "Enter number of elements in the list : 10\n",
      "Enter the numbers : 23,34,23,36,48,56,56,100,100,100\n",
      "[23, 34, 23, 36, 48, 56, 56, 100, 100, 100]\n",
      "Your Second max element of list is 56\n"
     ]
    }
   ],
   "source": [
    "n = int(input(\"Enter number of elements in the list : \"))                       # Enter number of elements in the list    \n",
    "\n",
    "list1 = list(map(int,input(\"Enter the numbers : \").strip().split(',')))         # Enter a Number\n",
    "print(list1)\n",
    "list1 = list(set(list1))                                                         \n",
    "list1.sort()                                                                    # Sort a list\n",
    "\n",
    "print(\"Your Second max element of list is\", sorted(list1)[-2])                  # Print Second max element in the list"
   ]
  },
  {
   "cell_type": "markdown",
   "metadata": {
    "id": "ZRGqaetuCdk9"
   },
   "source": [
    "# Question 3\n",
    "input:[23,34,23,34,34,36,48,56,56,100,100,100]<br>\n",
    "Write a function that will take a list as an input and returns third minimum element from the list.\n",
    "\n",
    "minimum(input)<br>\n",
    "output :your third min element of list is 36."
   ]
  },
  {
   "cell_type": "code",
   "execution_count": 11,
   "metadata": {
    "colab": {
     "base_uri": "https://localhost:8080/"
    },
    "executionInfo": {
     "elapsed": 28506,
     "status": "ok",
     "timestamp": 1626629599893,
     "user": {
      "displayName": "Mandar Sawant",
      "photoUrl": "",
      "userId": "10354919979443650100"
     },
     "user_tz": -330
    },
    "id": "oPXw3vN3Cipm",
    "outputId": "22eb4057-6a37-451f-eba8-df85d8206b78"
   },
   "outputs": [
    {
     "name": "stdout",
     "output_type": "stream",
     "text": [
      "Enter number of elements in the list : 12\n",
      "Enter the numbers : 23,34,23,34,34,36,48,56,56,100,100,100\n",
      "[23, 34, 23, 34, 34, 36, 48, 56, 56, 100, 100, 100]\n",
      "Your Third Min element of list is 36\n"
     ]
    }
   ],
   "source": [
    "n = int(input(\"Enter number of elements in the list : \"))                       # Enter number of elements in the list\n",
    "\n",
    "list1 = list(map(int,input(\"Enter the numbers : \").strip().split(',')))         # Enter a Number\n",
    "print(list1) \n",
    "\n",
    "list1 = list(set(list1))                                                        \n",
    "list1.sort()                                                                    # Sort a list\n",
    "\n",
    "print(\"Your Third Min element of list is\", sorted(list1)[2])                    # Print Third min element in the list"
   ]
  }
 ],
 "metadata": {
  "colab": {
   "authorship_tag": "ABX9TyPDT+Z3nE0sJN0CHjF213MW",
   "collapsed_sections": [],
   "name": "Mandar Sawant Assignment 5.ipynb",
   "provenance": []
  },
  "kernelspec": {
   "display_name": "Python 3",
   "language": "python",
   "name": "python3"
  },
  "language_info": {
   "codemirror_mode": {
    "name": "ipython",
    "version": 3
   },
   "file_extension": ".py",
   "mimetype": "text/x-python",
   "name": "python",
   "nbconvert_exporter": "python",
   "pygments_lexer": "ipython3",
   "version": "3.8.8"
  }
 },
 "nbformat": 4,
 "nbformat_minor": 1
}
