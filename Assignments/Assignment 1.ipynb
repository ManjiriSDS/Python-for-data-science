{
 "cells": [
  {
   "cell_type": "markdown",
   "metadata": {},
   "source": [
    "### 1.1 Take a string as an input from the user, and print all the vowels present in the string."
   ]
  },
  {
   "cell_type": "code",
   "execution_count": 2,
   "metadata": {},
   "outputs": [
    {
     "name": "stdout",
     "output_type": "stream",
     "text": [
      "Enter a String: OptimusPrime\n",
      "Vowels is e and number of occurances is 1\n",
      "Vowels is i and number of occurances is 2\n",
      "Vowels is O and number of occurances is 1\n",
      "Vowels is u and number of occurances is 1\n"
     ]
    }
   ],
   "source": [
    "a = input('Enter a String: ')         # take input from the user\n",
    "\n",
    "vowels = ['a','A','e','E','i','I','o','O','u','U']\n",
    "for element in vowels:\n",
    "    def count(a, element):            # write a function to count an element\n",
    "        return a.count(element)\n",
    "    if element in a:\n",
    "        print('Vowels is {} and number of occurances is {}'.format(element, count(a, element)))   # print output"
   ]
  },
  {
   "cell_type": "markdown",
   "metadata": {},
   "source": [
    "### 1.2 Take a string as an input from the user, and print all the consonants present in the string."
   ]
  },
  {
   "cell_type": "code",
   "execution_count": 3,
   "metadata": {},
   "outputs": [
    {
     "name": "stdout",
     "output_type": "stream",
     "text": [
      "Enter a String: Pickachu\n",
      "Consonants is P and number of occurances is 1\n",
      "Consonants is c and number of occurances is 2\n",
      "Consonants is k and number of occurances is 1\n",
      "Consonants is c and number of occurances is 2\n",
      "Consonants is h and number of occurances is 1\n"
     ]
    }
   ],
   "source": [
    "b = input('Enter a String: ')        # take input from the user\n",
    " \n",
    "vowels = ['a','A','e','E','i','I','o','O','u','U']\n",
    "for element in b:\n",
    "    def count(element, b):\n",
    "        return b.count(element)       # write a function to count a element\n",
    "    if element not in vowels :\n",
    "        print('Consonants is {} and number of occurances is {}'.format(element, (b.count(element))))  # print output"
   ]
  },
  {
   "cell_type": "markdown",
   "metadata": {},
   "source": [
    "### 1.3 Take a string as an input from the user, store all the vowels and consonants in two different lists and print them."
   ]
  },
  {
   "cell_type": "code",
   "execution_count": 4,
   "metadata": {},
   "outputs": [
    {
     "name": "stdout",
     "output_type": "stream",
     "text": [
      "Enter a String: Mandar\n",
      "Vowels List : ['a', 'a']\n",
      "Consonants List : ['M', 'n', 'd', 'r']\n"
     ]
    }
   ],
   "source": [
    "c = input('Enter a String: ')                 # take input from the user\n",
    "\n",
    "vowels = ['a','A','e','E','i','I','o','O','u','U']\n",
    "\n",
    "list1 = []                                    # Create empty list\n",
    "list2 = []\n",
    "\n",
    "for element in c:\n",
    "    if element in vowels:                     # write a function to append the element\n",
    "        list1.append(element)\n",
    "    else:\n",
    "        list2.append(element)\n",
    "        \n",
    "print('Vowels List : {}'.format(list1))         # print vowels list\n",
    "print('Consonants List : {}'.format(list2))     # print consonants list"
   ]
  },
  {
   "cell_type": "markdown",
   "metadata": {},
   "source": [
    "### 2. There are 12 months in a year - January, February,March etc. We also have seasons like summer,autumn,winter,spring.These seasons depend on both Date and Month. Based on below given information, answers the following questions.\n",
    "\n",
    ". For month = Jan,Feb,and March, print winter\n",
    "\n",
    ". If (month = March and date > 19), print summer\n",
    "\n",
    ". For month = Apr,May,June , print summer\n",
    "\n",
    ". If (month = June and date > 20), print spring\n",
    "\n",
    ". For month = July,Aug,Sep ,  print spring\n",
    "\n",
    ". If (month = september and date > 21), print autumn\n",
    "\n",
    ". For month = Oct,Nov,Dec , print autumn\n",
    "\n",
    ". If (month = December and date > 15), print winter"
   ]
  },
  {
   "cell_type": "markdown",
   "metadata": {},
   "source": [
    "For example:\n",
    "\n",
    "Input: Month = December\n",
    "       Day = 20\n",
    "       \n",
    "Output: Winter"
   ]
  },
  {
   "cell_type": "code",
   "execution_count": 5,
   "metadata": {},
   "outputs": [
    {
     "name": "stdout",
     "output_type": "stream",
     "text": [
      "Enter a Month : June\n",
      "Enter a Date : 25\n",
      "Spring\n"
     ]
    }
   ],
   "source": [
    "month = (input('Enter a Month : '))           # take input from the user eg.month\n",
    "date = int(input('Enter a Date : '))          # take input from the user eg.date\n",
    "\n",
    "grp1 = ['January','February','March']         \n",
    "grp2 = ['April','May','June']\n",
    "grp3 = ['July','August','September']\n",
    "grp4 = ['October','November','December']\n",
    "\n",
    "if month in grp1:\n",
    "    if(month == 'March' and date>19):        # conditions are\n",
    "        print('Summer')\n",
    "    else:\n",
    "        print('Winter')\n",
    "elif month in grp2:\n",
    "    if(month =='June' and date>20):\n",
    "        print('Spring')\n",
    "    else:\n",
    "        print('Summer')\n",
    "elif month in grp3:\n",
    "    if (month =='September' and date>21):\n",
    "        print('Autumn')\n",
    "    else:\n",
    "        print('Spring')\n",
    "elif month in grp4:\n",
    "    if (month =='December' and date>15):\n",
    "        print('Winter')\n",
    "    else:\n",
    "        print('Autumn')\n",
    "else:\n",
    "    print('Enter Correct date and month')                  # print output"
   ]
  },
  {
   "cell_type": "markdown",
   "metadata": {},
   "source": [
    "### 3.Take an input from the user and print the Ticket fair.\n",
    "\n",
    "Age: (1 to 3) :Ticket fair - free\n",
    "\n",
    "Age: (4 to 10) : Ticket fair  - 150\n",
    "    \n",
    "Age: (11 to 60) : Ticket fair - 300\n",
    "    \n",
    "Age: Above 60 : Ticket fair - 3000\n"
   ]
  },
  {
   "cell_type": "code",
   "execution_count": 6,
   "metadata": {},
   "outputs": [
    {
     "name": "stdout",
     "output_type": "stream",
     "text": [
      "Enter age: 40\n",
      "Ticket fair - 300\n"
     ]
    }
   ],
   "source": [
    "Age = int(input('Enter age: '))         # take input from the user eg.age\n",
    "\n",
    "if Age <= -1 or Age == 0 or Age >= 101:\n",
    "    print('Enter a Correct Age')              # Given condition \n",
    "\n",
    "elif Age <= 3:\n",
    "    print('Ticket fair - free')\n",
    "        \n",
    "elif Age <= 10:\n",
    "    print('Ticket fair - 150')\n",
    "        \n",
    "elif Age <= 60:\n",
    "    print('Ticket fair - 300')\n",
    "\n",
    "else:\n",
    "    print('Ticket fair - 3000')             # print output"
   ]
  },
  {
   "cell_type": "markdown",
   "metadata": {},
   "source": [
    "### 4. Take a string as an input and replace \"Anonyms\" and \"Love\" words with \"Your name\" and \"Like\"."
   ]
  },
  {
   "cell_type": "markdown",
   "metadata": {},
   "source": [
    "**For example:** a='My name is Anonyms and I Love python'\n",
    "\n",
    "**output:** My name is Ashish and I like python   "
   ]
  },
  {
   "cell_type": "code",
   "execution_count": 8,
   "metadata": {},
   "outputs": [
    {
     "name": "stdout",
     "output_type": "stream",
     "text": [
      "Enter a String : My name is Anonyms and I Love Python\n",
      "Enter Your Name : Mandar\n",
      "Enter Your Like : Like\n",
      "My name is Mandar and I Like Python\n"
     ]
    }
   ],
   "source": [
    "a = input('Enter a String : ')             # take input from the user\n",
    "\n",
    "b = input('Enter Your Name : ')\n",
    "\n",
    "c = input('Enter Your Like : ')\n",
    "\n",
    "a = a.replace('Anonyms', b)                # relace anonyms with your name\n",
    "a = a.replace('Love', c)\n",
    "print(a)                                    # print output"
   ]
  },
  {
   "cell_type": "markdown",
   "metadata": {},
   "source": [
    "### 5. Take two input values 'x' and 'y', and print which quadrants they belong to based on the below conditions.\n",
    "\n",
    "1. x>0 and y>0 - 1st Quadrant\n",
    "2. x<0 and y>0 - 2nd Quadrant\n",
    "3. x<0 and y<0 - 3rd Quadrant\n",
    "4. x>0 and y<0 - 4th Quadrant"
   ]
  },
  {
   "cell_type": "code",
   "execution_count": 9,
   "metadata": {},
   "outputs": [
    {
     "name": "stdout",
     "output_type": "stream",
     "text": [
      "Enter a Number: 5\n",
      "Enter a Number: -13\n",
      "4th Quadrant\n"
     ]
    }
   ],
   "source": [
    "x = int(input('Enter a Number: '))         # take input from the user\n",
    "y = int(input('Enter a Number: '))\n",
    "\n",
    "if x>0 and y>0:                            # given condition\n",
    "    print('1st Quadrant')\n",
    "elif x<0 and y>0:\n",
    "    print('2nd Quadrant')\n",
    "elif x<0 and y<0:\n",
    "    print('3rd Quadrant')\n",
    "elif x>0 and y<0:\n",
    "    print('4th Quadrant')\n",
    "else:\n",
    "    print('Enter Correct Value')           # print output"
   ]
  }
 ],
 "metadata": {
  "kernelspec": {
   "display_name": "Python 3",
   "language": "python",
   "name": "python3"
  },
  "language_info": {
   "codemirror_mode": {
    "name": "ipython",
    "version": 3
   },
   "file_extension": ".py",
   "mimetype": "text/x-python",
   "name": "python",
   "nbconvert_exporter": "python",
   "pygments_lexer": "ipython3",
   "version": "3.8.8"
  }
 },
 "nbformat": 4,
 "nbformat_minor": 4
}
