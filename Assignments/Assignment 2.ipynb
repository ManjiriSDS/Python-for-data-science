{
 "cells": [
  {
   "cell_type": "markdown",
   "metadata": {
    "id": "VXJDMkAbfQQ7"
   },
   "source": [
    "### Q 1. Write a python program to interchange first and last elements in a list<br>\n",
    "Input : [12, 35, 9, 56, 24]<br>\n",
    "Output : [24, 35, 9, 56, 12]"
   ]
  },
  {
   "cell_type": "code",
   "execution_count": 1,
   "metadata": {
    "id": "nkLzGNGUpk7B"
   },
   "outputs": [
    {
     "name": "stdout",
     "output_type": "stream",
     "text": [
      "[24, 35, 9, 56, 12]\n"
     ]
    }
   ],
   "source": [
    "a = [12, 35, 9, 56, 24]\n",
    "\n",
    "a[0] = 24        # use index number to change the value\n",
    "a[4] = 12\n",
    "print(a)         # print new list"
   ]
  },
  {
   "cell_type": "markdown",
   "metadata": {
    "id": "mJrR38UrfTsr"
   },
   "source": [
    "### Q 2. Write a python program to print the first two maximum numbers in the list and also print the sum of those two maximum numbers<br>\n",
    "Input : [12, 35, 9, 56, 24]<br>\n",
    "Output : [24, 35, 9, 56, 12]<br>\n",
    "output = Maximum numbers in the list are 56,35<br>\n",
    "and the sum of the above maximum numbers is 91"
   ]
  },
  {
   "cell_type": "code",
   "execution_count": 2,
   "metadata": {
    "id": "9O3EUaT8plpW"
   },
   "outputs": [
    {
     "name": "stdout",
     "output_type": "stream",
     "text": [
      "[9, 12, 24, 35, 56]\n",
      "[35, 56]\n",
      "91\n"
     ]
    }
   ],
   "source": [
    "b = [12, 35, 9, 56, 24]\n",
    "b.sort()             # sort the list\n",
    "print(b)                # print sort list\n",
    "print(b[3::1])            # print slicing a sort list\n",
    "print(sum(b[3::1]))       # print sum of slicing sort list"
   ]
  },
  {
   "cell_type": "markdown",
   "metadata": {
    "id": "gN-py34Qf6dF"
   },
   "source": [
    "### Q 3. Write a program to reverse a list using for loop without using slicing operation<br>\n",
    "Input=[1,2,3,4,5,6]<br>\n",
    "output=[6,5,4,3,2,1]"
   ]
  },
  {
   "cell_type": "code",
   "execution_count": 3,
   "metadata": {
    "id": "ZUrBTXnPpmgE"
   },
   "outputs": [
    {
     "name": "stdout",
     "output_type": "stream",
     "text": [
      "[6, 5, 4, 3, 2, 1]\n"
     ]
    }
   ],
   "source": [
    "c = [1,2,3,4,5,6]\n",
    "\n",
    "c.reverse()                      # reverse a list\n",
    "for element in c:\n",
    "    if c.reverse() == True:            # condition for reverse list\n",
    "        print(element, end = ' ') \n",
    "    \n",
    "print(c)                               # print reverse list"
   ]
  },
  {
   "cell_type": "markdown",
   "metadata": {
    "id": "5DMwujcNgQn2"
   },
   "source": [
    "### Q 4. Write a python program to print the first two minimum numbers in the list and also print the sum of those two minimum numbers<br>\n",
    "Input : [12, 35, 9, 56, 24]<br>\n",
    "Output : [24, 35, 9, 56, 12]<br>\n",
    "output=Minimum numbers in the list are 9,12<br>\n",
    "and the sum of the above minimum numbers is 21"
   ]
  },
  {
   "cell_type": "code",
   "execution_count": 4,
   "metadata": {
    "id": "OM-nbi_0pnGk"
   },
   "outputs": [
    {
     "name": "stdout",
     "output_type": "stream",
     "text": [
      "[9, 12, 24, 35, 56]\n",
      "[9, 12]\n",
      "21\n"
     ]
    }
   ],
   "source": [
    "d = [12, 35, 9, 56, 24]\n",
    "d.sort()                   # sort the list\n",
    "print(d)                        # print sort list\n",
    "print(d[:2:1])                       # print slicing a sort list\n",
    "print(sum(d[:2:1]))                  # print sum of slicing sort list"
   ]
  },
  {
   "cell_type": "markdown",
   "metadata": {
    "id": "dmHJ6S4pgpbx"
   },
   "source": [
    "### Q 5. Take string as an input from the user and print reverse of the string,using for loop <br>\n",
    "Input='hi i like python'<br>\n",
    "output='nohtyp ekil i ih'"
   ]
  },
  {
   "cell_type": "code",
   "execution_count": 5,
   "metadata": {
    "id": "MWPvs-Vcf5Aw"
   },
   "outputs": [
    {
     "name": "stdout",
     "output_type": "stream",
     "text": [
      "Enter a string: hi i like python\n",
      "nohtyp ekil i ih\n"
     ]
    }
   ],
   "source": [
    "s = input('Enter a string: ')   # take a input from user\n",
    "\n",
    "for element in s:\n",
    "    def reverse(element):          # write a function to reverse a string\n",
    "        return element[-1::-1]         \n",
    "    \n",
    "\n",
    "print('{}'.format(reverse(s)))        # print output"
   ]
  }
 ],
 "metadata": {
  "colab": {
   "collapsed_sections": [],
   "name": "Python_Assingment_2.ipynb",
   "provenance": []
  },
  "kernelspec": {
   "display_name": "Python 3",
   "language": "python",
   "name": "python3"
  },
  "language_info": {
   "codemirror_mode": {
    "name": "ipython",
    "version": 3
   },
   "file_extension": ".py",
   "mimetype": "text/x-python",
   "name": "python",
   "nbconvert_exporter": "python",
   "pygments_lexer": "ipython3",
   "version": "3.8.8"
  }
 },
 "nbformat": 4,
 "nbformat_minor": 1
}
