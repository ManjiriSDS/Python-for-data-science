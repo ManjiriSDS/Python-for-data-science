{
 "cells": [
  {
   "cell_type": "markdown",
   "metadata": {
    "id": "u8XyD_P4XhJz"
   },
   "source": [
    "### Q 1. Take a string as an input and check whether the input is present in the list and also print it's no.of occurances.\n",
    "\n",
    "**Example:** a = ['1,2,3,4,5,6,'q',1,'e',2,2,3,'a',2,2]<br>\n",
    "         Input = 2 <br>\n",
    "         output : 2 is present in the list and no.of occurances is 5"
   ]
  },
  {
   "cell_type": "code",
   "execution_count": 1,
   "metadata": {
    "id": "rkx2tIS1poja"
   },
   "outputs": [
    {
     "name": "stdout",
     "output_type": "stream",
     "text": [
      "Enter a number: 3\n",
      "3 is present in the list and no.of occurances is 2 \n"
     ]
    }
   ],
   "source": [
    "n = int(input('Enter a number: '))       # take the input from user\n",
    "\n",
    "a = [1,2,3,4,5,6,'q',1,'e',2,2,3,'a',2,2]\n",
    "\n",
    "if n in a:\n",
    "    def count(a, n):      # count x in list\n",
    "        return a.count(n)     # return count value \n",
    "\n",
    "                  # use x to find the value\n",
    "print('{} is present in the list and no.of occurances is {} '.format(n, count(a, n)))"
   ]
  },
  {
   "cell_type": "markdown",
   "metadata": {
    "id": "Y8bYuCYWZuAD"
   },
   "source": [
    "### Q 2. Print the list in reverse. Take the input from the user as <br> i. No.of elements to be given in the list.<br> ii. Enter the elements.<br> output: original list: [' ', ' ', ' ']<br> Reversed list: [' ', ' ', ' ']<br>\n",
    "\n",
    "**Example:** No.of elements : 3<br> Enter the elements: 'a','b','c'<br> output: original list: ['a','b','c']<br> Reversed list: ['c','b','a']"
   ]
  },
  {
   "cell_type": "code",
   "execution_count": 2,
   "metadata": {
    "id": "XWDwHwLFppS_"
   },
   "outputs": [
    {
     "name": "stdout",
     "output_type": "stream",
     "text": [
      "Enter a Number of elements: 4\n",
      "Enter a Word: qwq\n",
      "Original list : ['qwq']\n",
      "Enter a Word: qw\n",
      "Original list : ['qwq', 'qw']\n",
      "Enter a Word: qw\n",
      "Original list : ['qwq', 'qw', 'qw']\n",
      "Enter a Word: qq\n",
      "Original list : ['qw', 'qw', 'qwq', 'qq']\n",
      "Reversed list : ['qw', 'qw', 'qwq', 'qq']\n"
     ]
    }
   ],
   "source": [
    "n = int(input('Enter a Number of elements: '))      # take the input from user number of elements 3\n",
    "\n",
    "lst = []            # create empty list                              \n",
    "\n",
    "for i in range(1, n+1):         # create nested loop \n",
    "    word = input('Enter a Word: ')      # take the input from user 'string'\n",
    "    lst.append(word)                    # append the list\n",
    "    print('Original list : {}'.format(lst))    # print original list\n",
    "    for element in lst:\n",
    "        lst.reverse()           # reverse the list\n",
    "\n",
    "print('Reversed list : {}'.format(lst))        # print reverse list"
   ]
  },
  {
   "cell_type": "markdown",
   "metadata": {
    "id": "xfn94Khhb8jN"
   },
   "source": [
    "### Q 3. Write a Python program to find the second largest number in given list.<br>\n",
    "Examples: <br>\n",
    "\n",
    "Input: list1 = [10, 20, 4]<br>\n",
    "Output: 10<br>\n",
    "\n",
    "Input: list2 = [70, 11, 20, 4, 100]<br>\n",
    "Output: 70<br>"
   ]
  },
  {
   "cell_type": "code",
   "execution_count": 3,
   "metadata": {
    "id": "wZyVkrjSpp9d"
   },
   "outputs": [
    {
     "name": "stdout",
     "output_type": "stream",
     "text": [
      "[20, 10, 4]\n",
      "The Second Largest Number is 10\n",
      "[100, 70, 20, 11, 4]\n",
      "The Second Largest Number is 70\n"
     ]
    }
   ],
   "source": [
    "list1 = [10, 20, 4]\n",
    "\n",
    "list1.sort()     # sort the list1\n",
    "list1.reverse()    # reverse the list1\n",
    "print(list1)\n",
    "num = list1[1]      # use index value to find second largest number\n",
    "print('The Second Largest Number is {}'.format(num))\n",
    "\n",
    "list2 = [70, 11, 20, 4, 100]\n",
    "\n",
    "list2.sort()      # sort the list2\n",
    "list2.reverse()     # reverse the list2\n",
    "print(list2)\n",
    "num = list2[1]      # use index value to find second largest number\n",
    "print('The Second Largest Number is {}'.format(num))"
   ]
  },
  {
   "cell_type": "markdown",
   "metadata": {
    "id": "nIy5WklycyZN"
   },
   "source": [
    "### Q 4. Write a Python program to print all even numbers in given list.<br>\n",
    "Example:\n",
    "\n",
    "Input: list1 = [2, 7, 5, 64, 14]<br>\n",
    "Output: [2, 64, 14]\n",
    "\n",
    "Input: list2 = [12, 14, 95, 3]<br>\n",
    "Output: [12, 14]"
   ]
  },
  {
   "cell_type": "code",
   "execution_count": 4,
   "metadata": {
    "id": "pCH1HVvjpqha"
   },
   "outputs": [
    {
     "name": "stdout",
     "output_type": "stream",
     "text": [
      "[2, 64, 14]\n",
      "[12, 14]\n"
     ]
    }
   ],
   "source": [
    "list1 = [2, 7, 5, 64, 14]\n",
    "\n",
    "g = []                  # create empty list1\n",
    "for num in list1:           \n",
    "    if num % 2 == 0:        # condition is remainder is equal to 0 to find even numbers\n",
    "        g.append(num)       # append the list1\n",
    "        \n",
    "print(g)                # print list1 even numbers\n",
    "\n",
    "list2 = [12, 14, 95, 3]\n",
    "\n",
    "h =[]                   # create empty list2\n",
    "for num in list2:\n",
    "    if num % 2 == 0:        # condition is remainder is equal to 0 to find even numbers\n",
    "        h.append(num)       # append the list2\n",
    "\n",
    "print(h)                # print list2 even numbers"
   ]
  },
  {
   "cell_type": "markdown",
   "metadata": {
    "id": "q5C_131JdTHR"
   },
   "source": [
    "### Q 5. Write a Python program to print all odd numbers in given list.<br>\n",
    "Example:\n",
    "\n",
    "Input: list1 = [2, 7, 5, 64, 14]<br>\n",
    "Output: [7, 5]\n",
    "\n",
    "Input: list2 = [12, 14, 95, 3, 73]<br>\n",
    "Output: [95, 3, 73]"
   ]
  },
  {
   "cell_type": "code",
   "execution_count": 5,
   "metadata": {
    "id": "1Ft0ddL0prIb"
   },
   "outputs": [
    {
     "name": "stdout",
     "output_type": "stream",
     "text": [
      "[7, 5]\n",
      "[95, 3, 73]\n"
     ]
    }
   ],
   "source": [
    "list1 = [2, 7, 5, 64, 14]\n",
    "\n",
    "m = []                    # create empty list1\n",
    "for num in list1:\n",
    "    if num % 2 != 0:           # condition is remainder is not equal to 0 to find odd numbers    \n",
    "        m.append(num)          # append the list1\n",
    "\n",
    "print(m)                  # print list1 odd numbers\n",
    "\n",
    "list2 = [12, 14, 95, 3, 73]\n",
    "\n",
    "n = []                    # create empty list2\n",
    "for num in list2:\n",
    "    if num % 2 != 0:           # condition is remainder is not equal to 0 to find odd numbers\n",
    "        n.append(num)          # append the list2\n",
    "        \n",
    "print(n)                  # print list2 odd numbers"
   ]
  }
 ],
 "metadata": {
  "colab": {
   "collapsed_sections": [],
   "name": "Python_Assignment_3.ipynb",
   "provenance": []
  },
  "kernelspec": {
   "display_name": "Python 3",
   "language": "python",
   "name": "python3"
  },
  "language_info": {
   "codemirror_mode": {
    "name": "ipython",
    "version": 3
   },
   "file_extension": ".py",
   "mimetype": "text/x-python",
   "name": "python",
   "nbconvert_exporter": "python",
   "pygments_lexer": "ipython3",
   "version": "3.8.8"
  }
 },
 "nbformat": 4,
 "nbformat_minor": 1
}
